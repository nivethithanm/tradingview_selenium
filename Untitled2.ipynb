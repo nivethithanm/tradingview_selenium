{
 "cells": [
  {
   "cell_type": "code",
   "execution_count": 1,
   "id": "d230ab0c",
   "metadata": {},
   "outputs": [],
   "source": [
    "import numpy as np"
   ]
  },
  {
   "cell_type": "code",
   "execution_count": 7,
   "id": "7aec0cb2",
   "metadata": {},
   "outputs": [],
   "source": [
    "from selenium import webdriver\n",
    "\n",
    "DRIVER_PATH = '/home/nivethithan/chromedriver'\n",
    "driver = webdriver.Chrome(executable_path=DRIVER_PATH)\n",
    "driver.get('https://cloud.ibm.com/login')"
   ]
  },
  {
   "cell_type": "code",
   "execution_count": 32,
   "id": "c42375cf",
   "metadata": {},
   "outputs": [],
   "source": [
    "#text_area = driver.findElements(By.className('bx--text-input login-form__user-id'))\n",
    "text_area = driver.find_element_by_name('userid')\n",
    "#text_area = text_area.find_element_by_id('userid')\n",
    "text_area.send_keys('be17b023@smail.iitm.ac.in')\n",
    "driver.find_element_by_name('login').click()"
   ]
  },
  {
   "cell_type": "code",
   "execution_count": 27,
   "id": "0df85b3a",
   "metadata": {},
   "outputs": [
    {
     "data": {
      "text/plain": [
       "<selenium.webdriver.remote.webelement.WebElement (session=\"f38a7e0a1194b128cc117314ef8d89c9\", element=\"c143d0d7-4569-4386-886d-06d7d9022583\")>"
      ]
     },
     "execution_count": 27,
     "metadata": {},
     "output_type": "execute_result"
    }
   ],
   "source": [
    "text_area[0]"
   ]
  },
  {
   "cell_type": "code",
   "execution_count": null,
   "id": "c38bef3c",
   "metadata": {},
   "outputs": [],
   "source": []
  },
  {
   "cell_type": "code",
   "execution_count": 34,
   "id": "b5750698",
   "metadata": {},
   "outputs": [
    {
     "data": {
      "text/plain": [
       "<selenium.webdriver.remote.webelement.WebElement (session=\"f38a7e0a1194b128cc117314ef8d89c9\", element=\"478931ea-84f0-4c18-94f4-d68fb4f7abfa\")>"
      ]
     },
     "execution_count": 34,
     "metadata": {},
     "output_type": "execute_result"
    }
   ],
   "source": [
    "driver.find_element_by_name('login')#.click()"
   ]
  },
  {
   "cell_type": "code",
   "execution_count": null,
   "id": "4cc539ad",
   "metadata": {},
   "outputs": [],
   "source": []
  }
 ],
 "metadata": {
  "kernelspec": {
   "display_name": "Python 3",
   "language": "python",
   "name": "python3"
  },
  "language_info": {
   "codemirror_mode": {
    "name": "ipython",
    "version": 3
   },
   "file_extension": ".py",
   "mimetype": "text/x-python",
   "name": "python",
   "nbconvert_exporter": "python",
   "pygments_lexer": "ipython3",
   "version": "3.9.4"
  }
 },
 "nbformat": 4,
 "nbformat_minor": 5
}
